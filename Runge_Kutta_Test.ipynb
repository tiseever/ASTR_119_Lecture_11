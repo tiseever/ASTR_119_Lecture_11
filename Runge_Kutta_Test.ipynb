{
 "cells": [
  {
   "cell_type": "code",
   "execution_count": 11,
   "metadata": {},
   "outputs": [],
   "source": [
    "%matplotlib inline\n",
    "import matplotlib.pyplot as plt\n",
    "import numpy as np"
   ]
  },
  {
   "cell_type": "markdown",
   "metadata": {},
   "source": [
    "## Define a function to integrate"
   ]
  },
  {
   "cell_type": "code",
   "execution_count": 12,
   "metadata": {},
   "outputs": [],
   "source": [
    "def dfdx(x,f):\n",
    "    return x**2 + x"
   ]
  },
  {
   "cell_type": "markdown",
   "metadata": {},
   "source": [
    "## Define its integral"
   ]
  },
  {
   "cell_type": "code",
   "execution_count": 13,
   "metadata": {},
   "outputs": [],
   "source": [
    "def f_int(x,C):\n",
    "    return (x**3)/3. + 0.5*x**2 + C"
   ]
  },
  {
   "cell_type": "markdown",
   "metadata": {},
   "source": [
    "## Define the second-order RK method"
   ]
  },
  {
   "cell_type": "code",
   "execution_count": 14,
   "metadata": {},
   "outputs": [],
   "source": [
    "def rk2_core(x_i,f_i,h,g):\n",
    "    \n",
    "    # advance f by a step h\n",
    "    \n",
    "    # half step\n",
    "    x_ipoh = x_i + 0.5*h\n",
    "    f_ipoh = f_i + 0.5*h*g(x_i,f_i)\n",
    "    \n",
    "    #full step\n",
    "    f_ipo = f_i + h*g(x_ipoh,f_ipoh)\n",
    "    \n",
    "    return f_ipo"
   ]
  },
  {
   "cell_type": "markdown",
   "metadata": {},
   "source": [
    "## Define a wrapper routine for RK2"
   ]
  },
  {
   "cell_type": "code",
   "execution_count": 15,
   "metadata": {},
   "outputs": [],
   "source": [
    "def rk2(dfdx,a,b,f_a,N):\n",
    "    \n",
    "    # dfdx is a derivative wrt x\n",
    "    # [a,b] is the respective lower and upper bound\n",
    "    # f_a is the boundary condition\n",
    "    # N is the number of steps\n",
    "    \n",
    "    # define our steps\n",
    "    x = np.linspace(a,b,N)\n",
    "    \n",
    "    # a single step size\n",
    "    h = x[1] - x[0]\n",
    "    \n",
    "    # an array to hold f\n",
    "    f = np.zeros(N,dtype=float)\n",
    "    \n",
    "    f[0] = f_a                  # value of f at a\n",
    "    \n",
    "    # evolve f along x\n",
    "    for i in range(1,N):\n",
    "        f[i] = rk2_core(x[i-1],f[i-1],h,dfdx)\n",
    "        \n",
    "    return x,f"
   ]
  },
  {
   "cell_type": "markdown",
   "metadata": {},
   "source": [
    "## Define the fourth-order RK method"
   ]
  },
  {
   "cell_type": "code",
   "execution_count": 16,
   "metadata": {},
   "outputs": [],
   "source": [
    "def rk4_core(x_i,f_i,h,g):\n",
    "    \n",
    "    # define x at 1/2 step\n",
    "    x_ipoh = x_i + 0.5*h\n",
    "    \n",
    "    # define x at 1 step\n",
    "    x_ipo = x_i + h\n",
    "    \n",
    "    # advance f by a step h\n",
    "    \n",
    "    k_1 = h*g(x_i,f_i)\n",
    "    k_2 = h*g(x_ipoh,f_i + 0.5*k_1)\n",
    "    k_3 = h*g(x_ipoh,f_i + 0.5*k_2)\n",
    "    k_4 = h*g(x_ipo,f_i + k_3)\n",
    "    \n",
    "    f_ipo = f_i + (k_1 + 2*k_2 + 2*k_3 + k_4)/6.\n",
    "    \n",
    "    return f_ipo"
   ]
  },
  {
   "cell_type": "markdown",
   "metadata": {},
   "source": [
    "## Define a wrapper for RK4"
   ]
  },
  {
   "cell_type": "code",
   "execution_count": 17,
   "metadata": {},
   "outputs": [],
   "source": [
    "def rk4(dfdx,a,b,f_a,N):\n",
    "    \n",
    "    # dfdx is the derivative wrt x\n",
    "    # [a,b] is the upper and lower bounds\n",
    "    # f_a is the boundary condition at a\n",
    "    # N is the number of steps\n",
    "    \n",
    "    # define our steps\n",
    "    x = np.linspace(a,b,N)\n",
    "    \n",
    "    # a single step size\n",
    "    h = x[1] - x[0]\n",
    "    \n",
    "    # an array to hold f\n",
    "    f = np.zeros(N,dtype=float)\n",
    "    \n",
    "    f[0] = f_a                  # value of f at a\n",
    "    \n",
    "    # evolve f along x\n",
    "    for i in range(1,N):\n",
    "        f[i] = rk4_core(x[i-1],f[i-1],h,dfdx)\n",
    "        \n",
    "    return x,f"
   ]
  },
  {
   "cell_type": "markdown",
   "metadata": {},
   "source": [
    "## Evolve f using rk2 and rk4"
   ]
  },
  {
   "cell_type": "code",
   "execution_count": 25,
   "metadata": {},
   "outputs": [
    {
     "data": {
      "text/plain": [
       "Text(0, 0.5, 'y')"
      ]
     },
     "execution_count": 25,
     "metadata": {},
     "output_type": "execute_result"
    },
    {
     "data": {
      "image/png": "[encoded data removed]",
      "text/plain": [
       "<Figure size 432x288 with 1 Axes>"
      ]
     },
     "metadata": {
      "needs_background": "light"
     },
     "output_type": "display_data"
    }
   ],
   "source": [
    "a = 0.0\n",
    "b = 1.0\n",
    "f_a = 0.0\n",
    "N = 10\n",
    "x_2,f_2 = rk2(dfdx,a,b,f_a,N)\n",
    "x_4,f_4 = rk4(dfdx,a,b,f_a,N)\n",
    "x = x_2.copy()\n",
    "plt.plot(x_2,f_2,label='RK2')\n",
    "plt.plot(x_4,f_4,label='RK4')\n",
    "plt.plot(x,f_int(x,f_a),'ko',label='Analytic')\n",
    "plt.legend(frameon=False)\n",
    "plt.xlabel('x')\n",
    "plt.ylabel('f(x)')"
   ]
  },
  {
   "cell_type": "code",
   "execution_count": null,
   "metadata": {},
   "outputs": [],
   "source": []
  }
 ],
 "metadata": {
  "kernelspec": {
   "display_name": "Python 3",
   "language": "python",
   "name": "python3"
  },
  "language_info": {
   "codemirror_mode": {
    "name": "ipython",
    "version": 3
   },
   "file_extension": ".py",
   "mimetype": "text/x-python",
   "name": "python",
   "nbconvert_exporter": "python",
   "pygments_lexer": "ipython3",
   "version": "3.6.5"
  }
 },
 "nbformat": 4,
 "nbformat_minor": 2
}
